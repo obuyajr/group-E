{
  "cells": [
    {
      "cell_type": "code",
      "execution_count": null,
      "id": "d003cf57",
      "metadata": {
        "id": "d003cf57"
      },
      "outputs": [],
      "source": [
        "#Done by Faith Sang.................\n",
        "#Importing the MNIST dataset with load_digits\n",
        "from sklearn.datasets import load_digits\n",
        "#Importing the KNeighborsClassifier  module\n",
        "from sklearn.neighbors import KNeighborsClassifier as KNN\n",
        "from sklearn.metrics import classification_report\n",
        "from sklearn.model_selection import train_test_split, cross_val_score\n",
        "import pandas as pd\n",
        "import numpy as np\n",
        "from skimage import exposure\n",
        "from google.colab.patches import cv2_imshow\n",
        "import sklearn\n",
        "import matplotlib as mplt\n",
        "import matplotlib.pyplot as plt\n",
        "#This line will force Grapghs on to the Notebook\n",
        "%matplotlib inline"
      ]
    },
    {
      "cell_type": "code",
      "execution_count": null,
      "id": "04249d61",
      "metadata": {
        "id": "04249d61"
      },
      "outputs": [],
      "source": [
        "#Loading the MNIST dataset\n",
        "mnist = load_digits()\n",
        "\n",
        "#Converting the dataset to a dataframe\n",
        "df = pd.DataFrame(mnist.data)"
      ]
    },
    {
      "cell_type": "code",
      "execution_count": null,
      "id": "65565e06",
      "metadata": {
        "colab": {
          "base_uri": "https://localhost:8080/",
          "height": 298
        },
        "id": "65565e06",
        "outputId": "13da5420-2329-4837-d6d9-6e4a25d9f349"
      },
      "outputs": [
        {
          "output_type": "execute_result",
          "data": {
            "text/plain": [
              "    0    1    2     3     4     5    6    7    8    9   ...   54   55   56  \\\n",
              "0  0.0  0.0  5.0  13.0   9.0   1.0  0.0  0.0  0.0  0.0  ...  0.0  0.0  0.0   \n",
              "1  0.0  0.0  0.0  12.0  13.0   5.0  0.0  0.0  0.0  0.0  ...  0.0  0.0  0.0   \n",
              "2  0.0  0.0  0.0   4.0  15.0  12.0  0.0  0.0  0.0  0.0  ...  5.0  0.0  0.0   \n",
              "3  0.0  0.0  7.0  15.0  13.0   1.0  0.0  0.0  0.0  8.0  ...  9.0  0.0  0.0   \n",
              "4  0.0  0.0  0.0   1.0  11.0   0.0  0.0  0.0  0.0  0.0  ...  0.0  0.0  0.0   \n",
              "\n",
              "    57   58    59    60    61   62   63  \n",
              "0  0.0  6.0  13.0  10.0   0.0  0.0  0.0  \n",
              "1  0.0  0.0  11.0  16.0  10.0  0.0  0.0  \n",
              "2  0.0  0.0   3.0  11.0  16.0  9.0  0.0  \n",
              "3  0.0  7.0  13.0  13.0   9.0  0.0  0.0  \n",
              "4  0.0  0.0   2.0  16.0   4.0  0.0  0.0  \n",
              "\n",
              "[5 rows x 64 columns]"
            ],
            "text/html": [
              "\n",
              "  <div id=\"df-f725b37a-2b90-4852-a9b9-ca8a95392da4\">\n",
              "    <div class=\"colab-df-container\">\n",
              "      <div>\n",
              "<style scoped>\n",
              "    .dataframe tbody tr th:only-of-type {\n",
              "        vertical-align: middle;\n",
              "    }\n",
              "\n",
              "    .dataframe tbody tr th {\n",
              "        vertical-align: top;\n",
              "    }\n",
              "\n",
              "    .dataframe thead th {\n",
              "        text-align: right;\n",
              "    }\n",
              "</style>\n",
              "<table border=\"1\" class=\"dataframe\">\n",
              "  <thead>\n",
              "    <tr style=\"text-align: right;\">\n",
              "      <th></th>\n",
              "      <th>0</th>\n",
              "      <th>1</th>\n",
              "      <th>2</th>\n",
              "      <th>3</th>\n",
              "      <th>4</th>\n",
              "      <th>5</th>\n",
              "      <th>6</th>\n",
              "      <th>7</th>\n",
              "      <th>8</th>\n",
              "      <th>9</th>\n",
              "      <th>...</th>\n",
              "      <th>54</th>\n",
              "      <th>55</th>\n",
              "      <th>56</th>\n",
              "      <th>57</th>\n",
              "      <th>58</th>\n",
              "      <th>59</th>\n",
              "      <th>60</th>\n",
              "      <th>61</th>\n",
              "      <th>62</th>\n",
              "      <th>63</th>\n",
              "    </tr>\n",
              "  </thead>\n",
              "  <tbody>\n",
              "    <tr>\n",
              "      <th>0</th>\n",
              "      <td>0.0</td>\n",
              "      <td>0.0</td>\n",
              "      <td>5.0</td>\n",
              "      <td>13.0</td>\n",
              "      <td>9.0</td>\n",
              "      <td>1.0</td>\n",
              "      <td>0.0</td>\n",
              "      <td>0.0</td>\n",
              "      <td>0.0</td>\n",
              "      <td>0.0</td>\n",
              "      <td>...</td>\n",
              "      <td>0.0</td>\n",
              "      <td>0.0</td>\n",
              "      <td>0.0</td>\n",
              "      <td>0.0</td>\n",
              "      <td>6.0</td>\n",
              "      <td>13.0</td>\n",
              "      <td>10.0</td>\n",
              "      <td>0.0</td>\n",
              "      <td>0.0</td>\n",
              "      <td>0.0</td>\n",
              "    </tr>\n",
              "    <tr>\n",
              "      <th>1</th>\n",
              "      <td>0.0</td>\n",
              "      <td>0.0</td>\n",
              "      <td>0.0</td>\n",
              "      <td>12.0</td>\n",
              "      <td>13.0</td>\n",
              "      <td>5.0</td>\n",
              "      <td>0.0</td>\n",
              "      <td>0.0</td>\n",
              "      <td>0.0</td>\n",
              "      <td>0.0</td>\n",
              "      <td>...</td>\n",
              "      <td>0.0</td>\n",
              "      <td>0.0</td>\n",
              "      <td>0.0</td>\n",
              "      <td>0.0</td>\n",
              "      <td>0.0</td>\n",
              "      <td>11.0</td>\n",
              "      <td>16.0</td>\n",
              "      <td>10.0</td>\n",
              "      <td>0.0</td>\n",
              "      <td>0.0</td>\n",
              "    </tr>\n",
              "    <tr>\n",
              "      <th>2</th>\n",
              "      <td>0.0</td>\n",
              "      <td>0.0</td>\n",
              "      <td>0.0</td>\n",
              "      <td>4.0</td>\n",
              "      <td>15.0</td>\n",
              "      <td>12.0</td>\n",
              "      <td>0.0</td>\n",
              "      <td>0.0</td>\n",
              "      <td>0.0</td>\n",
              "      <td>0.0</td>\n",
              "      <td>...</td>\n",
              "      <td>5.0</td>\n",
              "      <td>0.0</td>\n",
              "      <td>0.0</td>\n",
              "      <td>0.0</td>\n",
              "      <td>0.0</td>\n",
              "      <td>3.0</td>\n",
              "      <td>11.0</td>\n",
              "      <td>16.0</td>\n",
              "      <td>9.0</td>\n",
              "      <td>0.0</td>\n",
              "    </tr>\n",
              "    <tr>\n",
              "      <th>3</th>\n",
              "      <td>0.0</td>\n",
              "      <td>0.0</td>\n",
              "      <td>7.0</td>\n",
              "      <td>15.0</td>\n",
              "      <td>13.0</td>\n",
              "      <td>1.0</td>\n",
              "      <td>0.0</td>\n",
              "      <td>0.0</td>\n",
              "      <td>0.0</td>\n",
              "      <td>8.0</td>\n",
              "      <td>...</td>\n",
              "      <td>9.0</td>\n",
              "      <td>0.0</td>\n",
              "      <td>0.0</td>\n",
              "      <td>0.0</td>\n",
              "      <td>7.0</td>\n",
              "      <td>13.0</td>\n",
              "      <td>13.0</td>\n",
              "      <td>9.0</td>\n",
              "      <td>0.0</td>\n",
              "      <td>0.0</td>\n",
              "    </tr>\n",
              "    <tr>\n",
              "      <th>4</th>\n",
              "      <td>0.0</td>\n",
              "      <td>0.0</td>\n",
              "      <td>0.0</td>\n",
              "      <td>1.0</td>\n",
              "      <td>11.0</td>\n",
              "      <td>0.0</td>\n",
              "      <td>0.0</td>\n",
              "      <td>0.0</td>\n",
              "      <td>0.0</td>\n",
              "      <td>0.0</td>\n",
              "      <td>...</td>\n",
              "      <td>0.0</td>\n",
              "      <td>0.0</td>\n",
              "      <td>0.0</td>\n",
              "      <td>0.0</td>\n",
              "      <td>0.0</td>\n",
              "      <td>2.0</td>\n",
              "      <td>16.0</td>\n",
              "      <td>4.0</td>\n",
              "      <td>0.0</td>\n",
              "      <td>0.0</td>\n",
              "    </tr>\n",
              "  </tbody>\n",
              "</table>\n",
              "<p>5 rows × 64 columns</p>\n",
              "</div>\n",
              "      <button class=\"colab-df-convert\" onclick=\"convertToInteractive('df-f725b37a-2b90-4852-a9b9-ca8a95392da4')\"\n",
              "              title=\"Convert this dataframe to an interactive table.\"\n",
              "              style=\"display:none;\">\n",
              "        \n",
              "  <svg xmlns=\"http://www.w3.org/2000/svg\" height=\"24px\"viewBox=\"0 0 24 24\"\n",
              "       width=\"24px\">\n",
              "    <path d=\"M0 0h24v24H0V0z\" fill=\"none\"/>\n",
              "    <path d=\"M18.56 5.44l.94 2.06.94-2.06 2.06-.94-2.06-.94-.94-2.06-.94 2.06-2.06.94zm-11 1L8.5 8.5l.94-2.06 2.06-.94-2.06-.94L8.5 2.5l-.94 2.06-2.06.94zm10 10l.94 2.06.94-2.06 2.06-.94-2.06-.94-.94-2.06-.94 2.06-2.06.94z\"/><path d=\"M17.41 7.96l-1.37-1.37c-.4-.4-.92-.59-1.43-.59-.52 0-1.04.2-1.43.59L10.3 9.45l-7.72 7.72c-.78.78-.78 2.05 0 2.83L4 21.41c.39.39.9.59 1.41.59.51 0 1.02-.2 1.41-.59l7.78-7.78 2.81-2.81c.8-.78.8-2.07 0-2.86zM5.41 20L4 18.59l7.72-7.72 1.47 1.35L5.41 20z\"/>\n",
              "  </svg>\n",
              "      </button>\n",
              "      \n",
              "  <style>\n",
              "    .colab-df-container {\n",
              "      display:flex;\n",
              "      flex-wrap:wrap;\n",
              "      gap: 12px;\n",
              "    }\n",
              "\n",
              "    .colab-df-convert {\n",
              "      background-color: #E8F0FE;\n",
              "      border: none;\n",
              "      border-radius: 50%;\n",
              "      cursor: pointer;\n",
              "      display: none;\n",
              "      fill: #1967D2;\n",
              "      height: 32px;\n",
              "      padding: 0 0 0 0;\n",
              "      width: 32px;\n",
              "    }\n",
              "\n",
              "    .colab-df-convert:hover {\n",
              "      background-color: #E2EBFA;\n",
              "      box-shadow: 0px 1px 2px rgba(60, 64, 67, 0.3), 0px 1px 3px 1px rgba(60, 64, 67, 0.15);\n",
              "      fill: #174EA6;\n",
              "    }\n",
              "\n",
              "    [theme=dark] .colab-df-convert {\n",
              "      background-color: #3B4455;\n",
              "      fill: #D2E3FC;\n",
              "    }\n",
              "\n",
              "    [theme=dark] .colab-df-convert:hover {\n",
              "      background-color: #434B5C;\n",
              "      box-shadow: 0px 1px 3px 1px rgba(0, 0, 0, 0.15);\n",
              "      filter: drop-shadow(0px 1px 2px rgba(0, 0, 0, 0.3));\n",
              "      fill: #FFFFFF;\n",
              "    }\n",
              "  </style>\n",
              "\n",
              "      <script>\n",
              "        const buttonEl =\n",
              "          document.querySelector('#df-f725b37a-2b90-4852-a9b9-ca8a95392da4 button.colab-df-convert');\n",
              "        buttonEl.style.display =\n",
              "          google.colab.kernel.accessAllowed ? 'block' : 'none';\n",
              "\n",
              "        async function convertToInteractive(key) {\n",
              "          const element = document.querySelector('#df-f725b37a-2b90-4852-a9b9-ca8a95392da4');\n",
              "          const dataTable =\n",
              "            await google.colab.kernel.invokeFunction('convertToInteractive',\n",
              "                                                     [key], {});\n",
              "          if (!dataTable) return;\n",
              "\n",
              "          const docLinkHtml = 'Like what you see? Visit the ' +\n",
              "            '<a target=\"_blank\" href=https://colab.research.google.com/notebooks/data_table.ipynb>data table notebook</a>'\n",
              "            + ' to learn more about interactive tables.';\n",
              "          element.innerHTML = '';\n",
              "          dataTable['output_type'] = 'display_data';\n",
              "          await google.colab.output.renderOutput(dataTable, element);\n",
              "          const docLink = document.createElement('div');\n",
              "          docLink.innerHTML = docLinkHtml;\n",
              "          element.appendChild(docLink);\n",
              "        }\n",
              "      </script>\n",
              "    </div>\n",
              "  </div>\n",
              "  "
            ]
          },
          "metadata": {},
          "execution_count": 3
        }
      ],
      "source": [
        "#Done by Franciscah Mwende...............\n",
        "#Displaying the first 5 rows\n",
        "df.head(5)"
      ]
    },
    {
      "cell_type": "code",
      "execution_count": null,
      "id": "bb78a098",
      "metadata": {
        "colab": {
          "base_uri": "https://localhost:8080/"
        },
        "id": "bb78a098",
        "outputId": "91ebfdc2-11fa-403d-eef0-d93d2047af7a"
      },
      "outputs": [
        {
          "output_type": "stream",
          "name": "stdout",
          "text": [
            "<class 'pandas.core.frame.DataFrame'>\n",
            "RangeIndex: 1797 entries, 0 to 1796\n",
            "Data columns (total 64 columns):\n",
            " #   Column  Non-Null Count  Dtype  \n",
            "---  ------  --------------  -----  \n",
            " 0   0       1797 non-null   float64\n",
            " 1   1       1797 non-null   float64\n",
            " 2   2       1797 non-null   float64\n",
            " 3   3       1797 non-null   float64\n",
            " 4   4       1797 non-null   float64\n",
            " 5   5       1797 non-null   float64\n",
            " 6   6       1797 non-null   float64\n",
            " 7   7       1797 non-null   float64\n",
            " 8   8       1797 non-null   float64\n",
            " 9   9       1797 non-null   float64\n",
            " 10  10      1797 non-null   float64\n",
            " 11  11      1797 non-null   float64\n",
            " 12  12      1797 non-null   float64\n",
            " 13  13      1797 non-null   float64\n",
            " 14  14      1797 non-null   float64\n",
            " 15  15      1797 non-null   float64\n",
            " 16  16      1797 non-null   float64\n",
            " 17  17      1797 non-null   float64\n",
            " 18  18      1797 non-null   float64\n",
            " 19  19      1797 non-null   float64\n",
            " 20  20      1797 non-null   float64\n",
            " 21  21      1797 non-null   float64\n",
            " 22  22      1797 non-null   float64\n",
            " 23  23      1797 non-null   float64\n",
            " 24  24      1797 non-null   float64\n",
            " 25  25      1797 non-null   float64\n",
            " 26  26      1797 non-null   float64\n",
            " 27  27      1797 non-null   float64\n",
            " 28  28      1797 non-null   float64\n",
            " 29  29      1797 non-null   float64\n",
            " 30  30      1797 non-null   float64\n",
            " 31  31      1797 non-null   float64\n",
            " 32  32      1797 non-null   float64\n",
            " 33  33      1797 non-null   float64\n",
            " 34  34      1797 non-null   float64\n",
            " 35  35      1797 non-null   float64\n",
            " 36  36      1797 non-null   float64\n",
            " 37  37      1797 non-null   float64\n",
            " 38  38      1797 non-null   float64\n",
            " 39  39      1797 non-null   float64\n",
            " 40  40      1797 non-null   float64\n",
            " 41  41      1797 non-null   float64\n",
            " 42  42      1797 non-null   float64\n",
            " 43  43      1797 non-null   float64\n",
            " 44  44      1797 non-null   float64\n",
            " 45  45      1797 non-null   float64\n",
            " 46  46      1797 non-null   float64\n",
            " 47  47      1797 non-null   float64\n",
            " 48  48      1797 non-null   float64\n",
            " 49  49      1797 non-null   float64\n",
            " 50  50      1797 non-null   float64\n",
            " 51  51      1797 non-null   float64\n",
            " 52  52      1797 non-null   float64\n",
            " 53  53      1797 non-null   float64\n",
            " 54  54      1797 non-null   float64\n",
            " 55  55      1797 non-null   float64\n",
            " 56  56      1797 non-null   float64\n",
            " 57  57      1797 non-null   float64\n",
            " 58  58      1797 non-null   float64\n",
            " 59  59      1797 non-null   float64\n",
            " 60  60      1797 non-null   float64\n",
            " 61  61      1797 non-null   float64\n",
            " 62  62      1797 non-null   float64\n",
            " 63  63      1797 non-null   float64\n",
            "dtypes: float64(64)\n",
            "memory usage: 898.6 KB\n"
          ]
        }
      ],
      "source": [
        "df.info()"
      ]
    },
    {
      "cell_type": "code",
      "execution_count": null,
      "id": "dbfc7f82",
      "metadata": {
        "colab": {
          "base_uri": "https://localhost:8080/"
        },
        "id": "dbfc7f82",
        "outputId": "a374e51f-7cfe-4249-9231-2f6b4765a0e8"
      },
      "outputs": [
        {
          "output_type": "execute_result",
          "data": {
            "text/plain": [
              "dict_keys(['data', 'target', 'frame', 'feature_names', 'target_names', 'images', 'DESCR'])"
            ]
          },
          "metadata": {},
          "execution_count": 5
        }
      ],
      "source": [
        "mnist.keys()"
      ]
    },
    {
      "cell_type": "code",
      "execution_count": null,
      "id": "29efcaea",
      "metadata": {
        "colab": {
          "base_uri": "https://localhost:8080/"
        },
        "id": "29efcaea",
        "outputId": "c1950df4-eeda-4561-ad71-0c73232aca1b"
      },
      "outputs": [
        {
          "output_type": "execute_result",
          "data": {
            "text/plain": [
              "sklearn.utils.Bunch"
            ]
          },
          "metadata": {},
          "execution_count": 27
        }
      ],
      "source": [
        "type(mnist)"
      ]
    },
    {
      "cell_type": "code",
      "execution_count": null,
      "id": "7c3c74bc",
      "metadata": {
        "colab": {
          "base_uri": "https://localhost:8080/",
          "height": 265
        },
        "id": "7c3c74bc",
        "outputId": "7cd359c6-2797-418e-ad0a-c07c137599c1"
      },
      "outputs": [
        {
          "output_type": "display_data",
          "data": {
            "text/plain": [
              "<Figure size 432x288 with 1 Axes>"
            ],
            "image/png": "[encoded data removed]"
          },
          "metadata": {
            "needs_background": "light"
          }
        }
      ],
      "source": [
        "#Done by Felix Obuya............\n",
        "#Visualizing the first image\n",
        "plt.imshow(mnist.images[0]);"
      ]
    },
    {
      "cell_type": "code",
      "execution_count": null,
      "id": "d5b21618",
      "metadata": {
        "colab": {
          "base_uri": "https://localhost:8080/",
          "height": 54
        },
        "id": "d5b21618",
        "outputId": "2314f2c8-147f-49f1-b6c1-dbf2896c62b2"
      },
      "outputs": [
        {
          "output_type": "display_data",
          "data": {
            "text/plain": [
              "<Figure size 1152x1152 with 10 Axes>"
            ],
            "image/png": "[encoded data removed]"
          },
          "metadata": {
            "needs_background": "light"
          }
        }
      ],
      "source": [
        "# dispalying the images of the first ten digits\n",
        "fig, axes  = plt.subplots(1, 10,figsize=(16,16))\n",
        "for i in range(10):\n",
        "    axes[i].imshow(mnist.images[i]);"
      ]
    },
    {
      "cell_type": "code",
      "execution_count": null,
      "id": "2a1611d6",
      "metadata": {
        "id": "2a1611d6"
      },
      "outputs": [],
      "source": [
        "#Done by Samuel Muthebwa..........\n",
        "# SPlitting testin and trainin data using the train_test_split function\n",
        "# 75% of the data will be for training and 25% for testing\n",
        "(X_train, Y_test, X_TrainLabels, Y_TestLabels) = train_test_split(np.array(mnist.data),mnist.target, test_size=0.25, random_state=42)\n",
        "# 15% of the training data will be set aside for validation purposes \n",
        "(X_trainData, x_valData, X_trainLabels, x_valLabels) = train_test_split(X_train, X_TrainLabels,test_size=0.15, random_state=84)"
      ]
    },
    {
      "cell_type": "code",
      "execution_count": null,
      "id": "be1e083d",
      "metadata": {
        "colab": {
          "base_uri": "https://localhost:8080/"
        },
        "id": "be1e083d",
        "outputId": "98cb40c3-3213-429e-c9b6-6d952a616d19"
      },
      "outputs": [
        {
          "output_type": "stream",
          "name": "stdout",
          "text": [
            "Number of k neighbors = 2 --> Accuracy=98.52%\n",
            "Number of k neighbors = 3 --> Accuracy=99.01%\n",
            "Number of k neighbors = 4 --> Accuracy=98.03%\n",
            "Number of k neighbors = 5 --> Accuracy=99.01%\n",
            "Number of k neighbors = 6 --> Accuracy=99.01%\n",
            "Number of k neighbors = 7 --> Accuracy=99.01%\n",
            "Number of k neighbors = 8 --> Accuracy=98.52%\n",
            "Number of k neighbors = 9 --> Accuracy=98.52%\n",
            "Number of k neighbors = 10 --> Accuracy=98.52%\n",
            "Number of k neighbors = 11 --> Accuracy=98.52%\n",
            "Number of k neighbors = 12 --> Accuracy=98.52%\n",
            "Number of k neighbors = 13 --> Accuracy=98.52%\n",
            "Number of k neighbors = 14 --> Accuracy=98.52%\n",
            "Number of k neighbors = 15 --> Accuracy=98.52%\n",
            "Number of k neighbors = 16 --> Accuracy=98.52%\n",
            "Number of k neighbors = 17 --> Accuracy=98.52%\n",
            "Number of k neighbors = 18 --> Accuracy=98.03%\n",
            "Number of k neighbors = 19 --> Accuracy=98.52%\n",
            "The best value of K neighbors is 3 \n"
          ]
        }
      ],
      "source": [
        "\n",
        "kNeighbors = range(2, 30)\n",
        "allscores = []\n",
        "allks=[]\n",
        "for k in range(2,20):\n",
        "    model = KNN(n_neighbors=k)\n",
        "    model.fit(X_trainData, X_trainLabels)\n",
        "    score = model.score(x_valData, x_valLabels)\n",
        "    allscores.append(score* 100)\n",
        "    allks.append(k)\n",
        "    print(\"Number of k neighbors = %d --> Accuracy=%.2f%%\" % (k, score * 100))\n",
        "maxScore = max(allscores)\n",
        "indexmaxSCore = allscores.index(maxScore)\n",
        "bestKVal = allks[indexmaxSCore]\n",
        "print(\"The best value of K neighbors is %d \" %(bestKVal))"
      ]
    },
    {
      "cell_type": "code",
      "execution_count": null,
      "id": "e9ddf8a2",
      "metadata": {
        "colab": {
          "base_uri": "https://localhost:8080/"
        },
        "id": "e9ddf8a2",
        "outputId": "f769af1f-10f9-4c94-a4b1-c85685fc51aa"
      },
      "outputs": [
        {
          "output_type": "stream",
          "name": "stdout",
          "text": [
            "EVALUATION ON TESTING DATA\n",
            "              precision    recall  f1-score   support\n",
            "\n",
            "           0       1.00      1.00      1.00        43\n",
            "           1       0.97      1.00      0.99        37\n",
            "           2       1.00      1.00      1.00        38\n",
            "           3       0.98      1.00      0.99        46\n",
            "           4       0.98      1.00      0.99        55\n",
            "           5       0.98      1.00      0.99        59\n",
            "           6       1.00      1.00      1.00        45\n",
            "           7       1.00      0.98      0.99        41\n",
            "           8       0.97      0.97      0.97        38\n",
            "           9       0.98      0.92      0.95        48\n",
            "\n",
            "    accuracy                           0.99       450\n",
            "   macro avg       0.99      0.99      0.99       450\n",
            "weighted avg       0.99      0.99      0.99       450\n",
            "\n"
          ]
        }
      ],
      "source": [
        "model = KNN(n_neighbors=3)\n",
        "model.fit(X_train, X_TrainLabels)\n",
        "predictions = model.predict(Y_test)\n",
        "print(\"EVALUATION ON TESTING DATA\")\n",
        "print(classification_report(Y_TestLabels, predictions))"
      ]
    },
    {
      "cell_type": "code",
      "source": [
        "#Done by Brian Gudah...........\n",
        "# grab the image and classify it \n",
        "image = mnist.images[4]\n",
        "prediction = model.predict(image.reshape(1, -1))[0]\n",
        "\n",
        "# convert the image for a 64-dim array to an 8 x 8 image compatible with OpenCV,\n",
        "# then resize it to 32 x 32 pixels so we can see it better\n",
        "image = image.reshape((8, 8)).astype(\"uint8\")\n",
        "\n",
        "# # show the prediction\n",
        "print(\"I think that digit is: {}\".format(prediction))\n",
        "cv2_imshow(image)"
      ],
      "metadata": {
        "colab": {
          "base_uri": "https://localhost:8080/",
          "height": 51
        },
        "id": "bgOFH1J7Ve_f",
        "outputId": "dafc6610-88c7-4ac9-e5cd-078601ec6d96"
      },
      "id": "bgOFH1J7Ve_f",
      "execution_count": null,
      "outputs": [
        {
          "output_type": "stream",
          "name": "stdout",
          "text": [
            "I think that digit is: 4\n"
          ]
        },
        {
          "output_type": "display_data",
          "data": {
            "text/plain": [
              "<PIL.Image.Image image mode=L size=8x8 at 0x7F15F29C00D0>"
            ],
            "image/png": "[encoded data removed]"
          },
          "metadata": {}
        }
      ]
    }
  ],
  "metadata": {
    "kernelspec": {
      "display_name": "Python 3",
      "language": "python",
      "name": "python3"
    },
    "language_info": {
      "codemirror_mode": {
        "name": "ipython",
        "version": 3
      },
      "file_extension": ".py",
      "mimetype": "text/x-python",
      "name": "python",
      "nbconvert_exporter": "python",
      "pygments_lexer": "ipython3",
      "version": "3.8.8"
    },
    "colab": {
      "name": "Assignment.ipynb",
      "provenance": [],
      "collapsed_sections": []
    }
  },
  "nbformat": 4,
  "nbformat_minor": 5
}
